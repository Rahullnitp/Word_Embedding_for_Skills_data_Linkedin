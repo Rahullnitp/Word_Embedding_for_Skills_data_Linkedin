{
  "nbformat": 4,
  "nbformat_minor": 0,
  "metadata": {
    "colab": {
      "name": "Word_Embedding_for_Skills_data_Linkedin.ipynb",
      "provenance": [],
      "include_colab_link": true
    },
    "kernelspec": {
      "name": "python3",
      "display_name": "Python 3"
    },
    "accelerator": "GPU"
  },
  "cells": [
    {
      "cell_type": "markdown",
      "metadata": {
        "id": "view-in-github",
        "colab_type": "text"
      },
      "source": [
        "<a href=\"https://colab.research.google.com/github/Rahullnitp/Word_Embedding_for_Skills_data_Linkedin/blob/master/Word_Embedding_for_Skills_data_Linkedin.ipynb\" target=\"_parent\"><img src=\"https://colab.research.google.com/assets/colab-badge.svg\" alt=\"Open In Colab\"/></a>"
      ]
    },
    {
      "cell_type": "markdown",
      "metadata": {
        "id": "GRAyZxj7BHIM",
        "colab_type": "text"
      },
      "source": [
        "#Introduction"
      ]
    },
    {
      "cell_type": "code",
      "metadata": {
        "id": "bFo7i0plBspD",
        "colab_type": "code",
        "outputId": "2ce4cbd3-5550-437a-8f1b-1f11a3fd1d4b",
        "colab": {
          "base_uri": "https://localhost:8080/",
          "height": 121
        }
      },
      "source": [
        "from google.colab import drive\n",
        "drive.mount('/content/gdrive')"
      ],
      "execution_count": 0,
      "outputs": [
        {
          "output_type": "stream",
          "text": [
            "Go to this URL in a browser: https://accounts.google.com/o/oauth2/auth?client_id=947318989803-6bn6qk8qdgf4n4g3pfee6491hc0brc4i.apps.googleusercontent.com&redirect_uri=urn%3aietf%3awg%3aoauth%3a2.0%3aoob&response_type=code&scope=email%20https%3a%2f%2fwww.googleapis.com%2fauth%2fdocs.test%20https%3a%2f%2fwww.googleapis.com%2fauth%2fdrive%20https%3a%2f%2fwww.googleapis.com%2fauth%2fdrive.photos.readonly%20https%3a%2f%2fwww.googleapis.com%2fauth%2fpeopleapi.readonly\n",
            "\n",
            "Enter your authorization code:\n",
            "··········\n",
            "Mounted at /content/gdrive\n"
          ],
          "name": "stdout"
        }
      ]
    },
    {
      "cell_type": "code",
      "metadata": {
        "id": "rfw25uINYnUR",
        "colab_type": "code",
        "outputId": "285fd12c-f4ee-4ace-f3f0-eeb6948eb872",
        "colab": {
          "base_uri": "https://localhost:8080/",
          "height": 62
        }
      },
      "source": [
        "import os \n",
        "import re\n",
        "import pandas as pd\n",
        "import numpy as np\n",
        "import seaborn as sns\n",
        "import matplotlib.pyplot as plt\n",
        "import tensorflow as tf\n",
        "from tensorflow.contrib.tensorboard.plugins import projector\n",
        "import gensim\n",
        "from gensim.models import Word2Vec,fasttext\n",
        "%matplotlib inline\n"
      ],
      "execution_count": 0,
      "outputs": [
        {
          "output_type": "display_data",
          "data": {
            "text/html": [
              "<p style=\"color: red;\">\n",
              "The default version of TensorFlow in Colab will soon switch to TensorFlow 2.x.<br>\n",
              "We recommend you <a href=\"https://www.tensorflow.org/guide/migrate\" target=\"_blank\">upgrade</a> now \n",
              "or ensure your notebook will continue to use TensorFlow 1.x via the <code>%tensorflow_version 1.x</code> magic:\n",
              "<a href=\"https://colab.research.google.com/notebooks/tensorflow_version.ipynb\" target=\"_blank\">more info</a>.</p>\n"
            ],
            "text/plain": [
              "<IPython.core.display.HTML object>"
            ]
          },
          "metadata": {
            "tags": []
          }
        }
      ]
    },
    {
      "cell_type": "code",
      "metadata": {
        "id": "6pFsgu-UaJPU",
        "colab_type": "code",
        "outputId": "e47c5d18-4a82-42df-f70c-24a7922dd3ff",
        "colab": {
          "base_uri": "https://localhost:8080/",
          "height": 269
        }
      },
      "source": [
        "!ls \"/content/gdrive/My Drive\""
      ],
      "execution_count": 0,
      "outputs": [
        {
          "output_type": "stream",
          "text": [
            " AAP_INTERN\n",
            " all_linkedin_skill_data.zip\n",
            " Big_Mart_Sales\n",
            "'Colab Notebooks'\n",
            " data\n",
            " data.zip\n",
            "'feature analysis Fraud detection IEEE.gsheet'\n",
            " FreeTutorialsUS.com-Udemy-NLP-Natural-Language-Processing-with-Python.torrent\n",
            "'Getting started.pdf'\n",
            " kaggle.json\n",
            " Rahul_kumar_VisualCV_Resume.pdf\n",
            " Rahul_res.pdf\n",
            " Repayer_vs_Defaulter_EDA.ipynb\n",
            "'sentiment analysis data'\n",
            "'TAIYO LLC INTERNSHIP TEST'\n"
          ],
          "name": "stdout"
        }
      ]
    },
    {
      "cell_type": "code",
      "metadata": {
        "id": "Wg3gN0lxfeMO",
        "colab_type": "code",
        "colab": {}
      },
      "source": [
        "!unzip -q \"/content/gdrive/My Drive/all_linkedin_skill_data.zip\""
      ],
      "execution_count": 0,
      "outputs": []
    },
    {
      "cell_type": "code",
      "metadata": {
        "id": "3liQApL4foRU",
        "colab_type": "code",
        "colab": {}
      },
      "source": [
        "lastreadchar = ''\n",
        "\n",
        "with open(\"all_linkedin_skill_data\",mode='r') as i, open('out.txt','w') as o:\n",
        "    while True:\n",
        "        x = i.read(1)\n",
        "\n",
        "        if x == '': # end of file has been reached\n",
        "            break \n",
        "        elif x==' ':\n",
        "            pass\n",
        "        elif x==']':\n",
        "            pass\n",
        "        elif x=='[':\n",
        "            if lastreadchar == '[': \n",
        "                # at the beginning of the file, don't do anything\n",
        "                pass\n",
        "            elif lastreadchar == '\\n': # a new line\n",
        "                pass   \n",
        "            elif lastreadchar == ',': # a new line\n",
        "                pass\n",
        "        elif x==',':\n",
        "            if lastreadchar == ']': # at the beginning of the file\n",
        "                \n",
        "                o.write('\\n')\n",
        "            else:\n",
        "                \n",
        "                o.write(x)\n",
        "        else:\n",
        "                   \n",
        "            o.write(x)\n",
        "\n",
        "        lastreadchar = x"
      ],
      "execution_count": 0,
      "outputs": []
    },
    {
      "cell_type": "code",
      "metadata": {
        "id": "LwqP2KtNaGpB",
        "colab_type": "code",
        "colab": {}
      },
      "source": [
        "# af = open(\"/content/all_linkedin_skill_data\", \"r\")\n",
        "\n",
        "# print(af.read(1000))"
      ],
      "execution_count": 0,
      "outputs": []
    },
    {
      "cell_type": "code",
      "metadata": {
        "id": "jW41rd6_MOQH",
        "colab_type": "code",
        "colab": {}
      },
      "source": [
        "# af = open(\"/content/out.txt\", \"r\")\n",
        "# print(af.read(1000))"
      ],
      "execution_count": 0,
      "outputs": []
    },
    {
      "cell_type": "code",
      "metadata": {
        "id": "bqr6umIGMOLR",
        "colab_type": "code",
        "colab": {}
      },
      "source": [
        "with open('/content/out.txt') as f:\n",
        "  s = \" \".join([x.strip() for x in f ])"
      ],
      "execution_count": 0,
      "outputs": []
    },
    {
      "cell_type": "code",
      "metadata": {
        "id": "Ie92DQi9OKe8",
        "colab_type": "code",
        "outputId": "99a73a20-cdad-4a8f-d886-dc23f474833d",
        "colab": {
          "base_uri": "https://localhost:8080/",
          "height": 54
        }
      },
      "source": [
        "s[:1000]"
      ],
      "execution_count": 7,
      "outputs": [
        {
          "output_type": "execute_result",
          "data": {
            "text/plain": [
              "' \"ContractNegotiation\",\"SupplyChainManagement\",\"CostReduction\",\"StrategicSourcing\",\"Materials\",\"Subcontracting\",\"Sourcing&Procurement\",\"InterculturalCommunication\",\"GlobalSourcing\",\"MaterialsManagement\",\"Logistics\",\"EquipmentProcurement\",\"PurchasingNegotiations\",\"SupplierManagement\",\"SupplierEvaluation\",\"SupplierNegotiations\" \"projetistademaquinas\",\"tecnicoeletrico\",\"tecnicamecanica\"  \"Recruiting\",\"HumanResources\",\"TalentAcquisition\",\"EmployeeEngagement\",\"Sourcing\",\"ExecutiveSearch\",\"TechnicalRecruiting\",\"VendorManagement\",\"BenefitsNegotiation\" \"WellIntervention\",\"ProjectManagement\",\"ProductionTechnology\",\"ProductOptimization\",\"SandControl\",\"Completions\",\"Modeling\",\"FieldDevelopment\",\"PetroleumEngineering\",\"ProductionEngineering\"  \"AML\",\"RiskManagement\",\"Banking\",\"RiskAssessment\",\"InternalControls\",\"Auditing\",\"Fraud\"     \"PHP\",\"MySQL\",\"HTML5\",\"CSS3\",\"jQuery\",\"JavaScript\",\"Drupal\",\"MobileApplications\",\"PhoneGap\",\"iPhonedevelopment\",\"Android\",\"WebApplications\",\"HTML+CSS\",\"WebServices\",\"L'"
            ]
          },
          "metadata": {
            "tags": []
          },
          "execution_count": 7
        }
      ]
    },
    {
      "cell_type": "code",
      "metadata": {
        "id": "rdWRGOLMMOIa",
        "colab_type": "code",
        "outputId": "e6e808fb-6718-462c-faef-fc896f0e266e",
        "colab": {
          "base_uri": "https://localhost:8080/",
          "height": 34
        }
      },
      "source": [
        "type(s)"
      ],
      "execution_count": 8,
      "outputs": [
        {
          "output_type": "execute_result",
          "data": {
            "text/plain": [
              "str"
            ]
          },
          "metadata": {
            "tags": []
          },
          "execution_count": 8
        }
      ]
    },
    {
      "cell_type": "code",
      "metadata": {
        "id": "nPuLmV5fNB21",
        "colab_type": "code",
        "colab": {}
      },
      "source": [
        "skill=s.split()"
      ],
      "execution_count": 0,
      "outputs": []
    },
    {
      "cell_type": "code",
      "metadata": {
        "id": "k1qmUGYTN6AJ",
        "colab_type": "code",
        "outputId": "ee3f5ad9-90f2-4000-da84-118a655a2a40",
        "colab": {
          "base_uri": "https://localhost:8080/",
          "height": 54
        }
      },
      "source": [
        "skill[0]"
      ],
      "execution_count": 10,
      "outputs": [
        {
          "output_type": "execute_result",
          "data": {
            "text/plain": [
              "'\"ContractNegotiation\",\"SupplyChainManagement\",\"CostReduction\",\"StrategicSourcing\",\"Materials\",\"Subcontracting\",\"Sourcing&Procurement\",\"InterculturalCommunication\",\"GlobalSourcing\",\"MaterialsManagement\",\"Logistics\",\"EquipmentProcurement\",\"PurchasingNegotiations\",\"SupplierManagement\",\"SupplierEvaluation\",\"SupplierNegotiations\"'"
            ]
          },
          "metadata": {
            "tags": []
          },
          "execution_count": 10
        }
      ]
    },
    {
      "cell_type": "code",
      "metadata": {
        "id": "MVe250xwPEYC",
        "colab_type": "code",
        "outputId": "ca3f1467-b6e1-4297-92b2-5dff363993bd",
        "colab": {
          "base_uri": "https://localhost:8080/",
          "height": 34
        }
      },
      "source": [
        "len(skill)"
      ],
      "execution_count": 11,
      "outputs": [
        {
          "output_type": "execute_result",
          "data": {
            "text/plain": [
              "1490271"
            ]
          },
          "metadata": {
            "tags": []
          },
          "execution_count": 11
        }
      ]
    },
    {
      "cell_type": "code",
      "metadata": {
        "id": "IlT5QrVjMON4",
        "colab_type": "code",
        "outputId": "29590616-5708-4f68-c0ab-d08bb1980766",
        "colab": {
          "base_uri": "https://localhost:8080/",
          "height": 34
        }
      },
      "source": [
        "res = [re.findall(r'\\w+', skill[i]) for i in range(len(skill))] # to extract words from string \n",
        "\n",
        "# printing result \n",
        "print (\"The list of words is : \" +  str(res[:20]))"
      ],
      "execution_count": 15,
      "outputs": [
        {
          "output_type": "stream",
          "text": [
            "The list of words is : ContractNegotiation\n"
          ],
          "name": "stdout"
        }
      ]
    },
    {
      "cell_type": "code",
      "metadata": {
        "id": "c3LuOkF6X4gV",
        "colab_type": "code",
        "outputId": "32e6fe8e-1158-4110-ee52-e4a5383765ab",
        "colab": {
          "base_uri": "https://localhost:8080/",
          "height": 34
        }
      },
      "source": [
        "import gensim\n",
        "model=gensim.models.Word2Vec(sentences=res,size=100,window=5,workers=4,min_count=1)\n",
        "words=list(model.wv.vocab)\n",
        "print(\"vocabulary size: %d\" % len(words))"
      ],
      "execution_count": 16,
      "outputs": [
        {
          "output_type": "stream",
          "text": [
            "vocabulary size: 656194\n"
          ],
          "name": "stdout"
        }
      ]
    },
    {
      "cell_type": "code",
      "metadata": {
        "id": "dcVBfNWFryyx",
        "colab_type": "code",
        "outputId": "fff3fff5-b44d-4d94-e9e3-4069f0ca2d5d",
        "colab": {
          "base_uri": "https://localhost:8080/",
          "height": 101
        }
      },
      "source": [
        "words[:5]"
      ],
      "execution_count": 17,
      "outputs": [
        {
          "output_type": "execute_result",
          "data": {
            "text/plain": [
              "['ContractNegotiation',\n",
              " 'SupplyChainManagement',\n",
              " 'CostReduction',\n",
              " 'StrategicSourcing',\n",
              " 'Materials']"
            ]
          },
          "metadata": {
            "tags": []
          },
          "execution_count": 17
        }
      ]
    },
    {
      "cell_type": "code",
      "metadata": {
        "id": "GB3zvlJDbjGg",
        "colab_type": "code",
        "outputId": "5d3337cd-c88a-494d-819a-566d2ecf224c",
        "colab": {
          "base_uri": "https://localhost:8080/",
          "height": 238
        }
      },
      "source": [
        "model.wv.most_similar('singing')"
      ],
      "execution_count": 21,
      "outputs": [
        {
          "output_type": "stream",
          "text": [
            "/usr/local/lib/python3.6/dist-packages/gensim/matutils.py:737: FutureWarning: Conversion of the second argument of issubdtype from `int` to `np.signedinteger` is deprecated. In future, it will be treated as `np.int64 == np.dtype(int).type`.\n",
            "  if np.issubdtype(vec.dtype, np.int):\n"
          ],
          "name": "stderr"
        },
        {
          "output_type": "execute_result",
          "data": {
            "text/plain": [
              "[('dancing', 0.9361268281936646),\n",
              " ('songwriting', 0.930167555809021),\n",
              " ('acting', 0.9301396608352661),\n",
              " ('Breathing', 0.9254482984542847),\n",
              " ('PerformanceArt', 0.9234079122543335),\n",
              " ('Poet', 0.9224183559417725),\n",
              " ('cooking', 0.9213228225708008),\n",
              " ('PhysicalTheatre', 0.9179217219352722),\n",
              " ('Artist', 0.9110716581344604),\n",
              " ('PoleDancing', 0.9096380472183228)]"
            ]
          },
          "metadata": {
            "tags": []
          },
          "execution_count": 21
        }
      ]
    },
    {
      "cell_type": "code",
      "metadata": {
        "id": "LbJ9IV4FbjAR",
        "colab_type": "code",
        "colab": {}
      },
      "source": [
        ""
      ],
      "execution_count": 0,
      "outputs": []
    },
    {
      "cell_type": "code",
      "metadata": {
        "id": "Oo5ufBakX4dj",
        "colab_type": "code",
        "colab": {}
      },
      "source": [
        ""
      ],
      "execution_count": 0,
      "outputs": []
    },
    {
      "cell_type": "code",
      "metadata": {
        "id": "F4ChuXJ1bwQL",
        "colab_type": "code",
        "colab": {}
      },
      "source": [
        ""
      ],
      "execution_count": 0,
      "outputs": []
    }
  ]
}